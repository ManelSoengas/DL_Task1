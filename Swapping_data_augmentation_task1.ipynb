{
  "nbformat": 4,
  "nbformat_minor": 0,
  "metadata": {
    "colab": {
      "provenance": [],
      "authorship_tag": "ABX9TyPRxq2qttSkpeGazyWsuLGt",
      "include_colab_link": true
    },
    "kernelspec": {
      "name": "python3",
      "display_name": "Python 3"
    },
    "language_info": {
      "name": "python"
    }
  },
  "cells": [
    {
      "cell_type": "markdown",
      "metadata": {
        "id": "view-in-github",
        "colab_type": "text"
      },
      "source": [
        "<a href=\"https://colab.research.google.com/github/ManelSoengas/DL_Task1/blob/main/Swapping_data_augmentation_task1.ipynb\" target=\"_parent\"><img src=\"https://colab.research.google.com/assets/colab-badge.svg\" alt=\"Open In Colab\"/></a>"
      ]
    },
    {
      "cell_type": "code",
      "execution_count": 39,
      "metadata": {
        "colab": {
          "base_uri": "https://localhost:8080/"
        },
        "id": "ERJ5tx1xMbMN",
        "outputId": "b8fa7426-0cc7-4547-96b9-6a64e9765d21"
      },
      "outputs": [
        {
          "output_type": "stream",
          "name": "stdout",
          "text": [
            "Requirement already satisfied: nlpaug in /usr/local/lib/python3.10/dist-packages (1.1.11)\n",
            "Requirement already satisfied: numpy>=1.16.2 in /usr/local/lib/python3.10/dist-packages (from nlpaug) (1.22.4)\n",
            "Requirement already satisfied: pandas>=1.2.0 in /usr/local/lib/python3.10/dist-packages (from nlpaug) (1.5.3)\n",
            "Requirement already satisfied: requests>=2.22.0 in /usr/local/lib/python3.10/dist-packages (from nlpaug) (2.27.1)\n",
            "Requirement already satisfied: gdown>=4.0.0 in /usr/local/lib/python3.10/dist-packages (from nlpaug) (4.6.6)\n",
            "Requirement already satisfied: filelock in /usr/local/lib/python3.10/dist-packages (from gdown>=4.0.0->nlpaug) (3.12.2)\n",
            "Requirement already satisfied: six in /usr/local/lib/python3.10/dist-packages (from gdown>=4.0.0->nlpaug) (1.16.0)\n",
            "Requirement already satisfied: tqdm in /usr/local/lib/python3.10/dist-packages (from gdown>=4.0.0->nlpaug) (4.65.0)\n",
            "Requirement already satisfied: beautifulsoup4 in /usr/local/lib/python3.10/dist-packages (from gdown>=4.0.0->nlpaug) (4.11.2)\n",
            "Requirement already satisfied: python-dateutil>=2.8.1 in /usr/local/lib/python3.10/dist-packages (from pandas>=1.2.0->nlpaug) (2.8.2)\n",
            "Requirement already satisfied: pytz>=2020.1 in /usr/local/lib/python3.10/dist-packages (from pandas>=1.2.0->nlpaug) (2022.7.1)\n",
            "Requirement already satisfied: urllib3<1.27,>=1.21.1 in /usr/local/lib/python3.10/dist-packages (from requests>=2.22.0->nlpaug) (1.26.16)\n",
            "Requirement already satisfied: certifi>=2017.4.17 in /usr/local/lib/python3.10/dist-packages (from requests>=2.22.0->nlpaug) (2023.5.7)\n",
            "Requirement already satisfied: charset-normalizer~=2.0.0 in /usr/local/lib/python3.10/dist-packages (from requests>=2.22.0->nlpaug) (2.0.12)\n",
            "Requirement already satisfied: idna<4,>=2.5 in /usr/local/lib/python3.10/dist-packages (from requests>=2.22.0->nlpaug) (3.4)\n",
            "Requirement already satisfied: soupsieve>1.2 in /usr/local/lib/python3.10/dist-packages (from beautifulsoup4->gdown>=4.0.0->nlpaug) (2.4.1)\n",
            "Requirement already satisfied: PySocks!=1.5.7,>=1.5.6 in /usr/local/lib/python3.10/dist-packages (from requests>=2.22.0->nlpaug) (1.7.1)\n"
          ]
        }
      ],
      "source": [
        "!pip install nlpaug\n",
        "\n",
        "import pandas as pd"
      ]
    },
    {
      "cell_type": "code",
      "source": [
        "from sklearn.utils import shuffle\n",
        "# Cargar datos preprocesados\n",
        "df = pd.read_csv('/content/EXIST2021_training.tsv', sep='\\t')\n",
        "#test_data = pd.read_csv('/content/df_test_clean.csv', delimiter=',', encoding='latin1')\n",
        "# Mezclar los datos de entrenamiento\n",
        "\n",
        "# Mezclar los datos de prueba\n",
        "#shuffled_test_data = shuffle(test_data, random_state=42)"
      ],
      "metadata": {
        "id": "vVjbLQuwMmDb"
      },
      "execution_count": 82,
      "outputs": []
    },
    {
      "cell_type": "code",
      "source": [],
      "metadata": {
        "id": "e06UyloQb7xS"
      },
      "execution_count": null,
      "outputs": []
    },
    {
      "cell_type": "code",
      "source": [
        "import pandas as pd\n",
        "import nlpaug.augmenter.word as naw\n",
        "import random\n",
        "\n",
        "# Suponiendo que tienes el DataFrame almacenado en una variable llamada \"df\"\n",
        "# df = pd.read_csv(\"nombre_del_archivo.csv\")  # Carga tus datos desde un archivo CSV o de la forma que los tengas\n",
        "\n",
        "# Crear un objeto Augmenter para la técnica de \"word swapping\" (intercambio de palabras)\n",
        "aug = naw.RandomWordAug(action=\"swap\")\n",
        "\n",
        "# Seleccionar 5 filas por idioma del DataFrame original para el swapping\n",
        "df_swapping = df.groupby('language').apply(lambda x: x.sample(2500)).copy()\n",
        "\n",
        "# Definir una función para aplicar la técnica de \"word swapping\" a las sentencias\n",
        "def apply_swapping(text):\n",
        "    # Convertir el texto en una lista de palabras\n",
        "    words = text.split()\n",
        "\n",
        "    # Aplicar la técnica de swapping a las palabras\n",
        "    swapped_words = aug.augment(words)\n",
        "\n",
        "    # Unir las palabras nuevamente para formar la oración resultante\n",
        "    augmented_text = ' '.join(swapped_words)\n",
        "\n",
        "    return augmented_text\n",
        "\n",
        "# Aplicar el swapping a la columna \"text\" del DataFrame de swapping\n",
        "df_swapping['text'] = df_swapping['text'].apply(apply_swapping)\n",
        "\n",
        "# Resetear los índices del DataFrame de swapping\n",
        "df_swapping.reset_index(drop=True, inplace=True)\n",
        "\n",
        "# Concatenar el DataFrame original con el DataFrame de swapping\n",
        "df_final = pd.concat([df, df_swapping], ignore_index=True)\n",
        "\n",
        "# Imprimir el DataFrame con las oraciones generadas con swapping y la información correspondiente\n",
        "print(df_final)\n"
      ],
      "metadata": {
        "colab": {
          "base_uri": "https://localhost:8080/"
        },
        "id": "_lZYjEEnsKrH",
        "outputId": "9a8c0b58-ab1b-481b-b9bc-1849453e1487"
      },
      "execution_count": 83,
      "outputs": [
        {
          "output_type": "stream",
          "name": "stdout",
          "text": [
            "       test_case    id   source language  \\\n",
            "0      EXIST2021     1  twitter       en   \n",
            "1      EXIST2021     2  twitter       en   \n",
            "2      EXIST2021     3  twitter       en   \n",
            "3      EXIST2021     4  twitter       en   \n",
            "4      EXIST2021     5  twitter       en   \n",
            "...          ...   ...      ...      ...   \n",
            "11972  EXIST2021  5261  twitter       es   \n",
            "11973  EXIST2021  5013  twitter       es   \n",
            "11974  EXIST2021  6703  twitter       es   \n",
            "11975  EXIST2021  5618  twitter       es   \n",
            "11976  EXIST2021  4991  twitter       es   \n",
            "\n",
            "                                                    text       task1  \\\n",
            "0      She calls herself \"anti-feminazi\" how about sh...      sexist   \n",
            "1      Now, back to these women, the brave and the be...  non-sexist   \n",
            "2      @CurvyBandida @Xalynne_B Wow, your skirt is ve...      sexist   \n",
            "3      @AurelieGuiboud Incredible!  Beautiful!But I l...  non-sexist   \n",
            "4      i find it extremely hard to believe that kelly...  non-sexist   \n",
            "...                                                  ...         ...   \n",
            "11972  Como mujer , cis el feminismo en si tampoco me...      sexist   \n",
            "11973  Hay una incipiente desconstrucción del androce...  non-sexist   \n",
            "11974  Odio que politicen . todo No importa bajo que ...  non-sexist   \n",
            "11975  Mochi__001 @ nastywaIIs @ Por eso me re jode l...      sexist   \n",
            "11976  Impunidad al , volante festejada por el . mame...      sexist   \n",
            "\n",
            "                        task2  \n",
            "0      ideological-inequality  \n",
            "1                  non-sexist  \n",
            "2             objectification  \n",
            "3                  non-sexist  \n",
            "4                  non-sexist  \n",
            "...                       ...  \n",
            "11972  ideological-inequality  \n",
            "11973              non-sexist  \n",
            "11974              non-sexist  \n",
            "11975         sexual-violence  \n",
            "11976  stereotyping-dominance  \n",
            "\n",
            "[11977 rows x 7 columns]\n"
          ]
        }
      ]
    },
    {
      "cell_type": "code",
      "source": [
        "print(df_swapping)\n"
      ],
      "metadata": {
        "colab": {
          "base_uri": "https://localhost:8080/"
        },
        "id": "EkH6oSfNs7V5",
        "outputId": "85e5bbe0-c3ec-442f-9a19-1ba6aed64be9"
      },
      "execution_count": 84,
      "outputs": [
        {
          "output_type": "stream",
          "name": "stdout",
          "text": [
            "      test_case    id   source language  \\\n",
            "0     EXIST2021   203  twitter       en   \n",
            "1     EXIST2021   320  twitter       en   \n",
            "2     EXIST2021  1648  twitter       en   \n",
            "3     EXIST2021    39  twitter       en   \n",
            "4     EXIST2021   640  twitter       en   \n",
            "...         ...   ...      ...      ...   \n",
            "4995  EXIST2021  5261  twitter       es   \n",
            "4996  EXIST2021  5013  twitter       es   \n",
            "4997  EXIST2021  6703  twitter       es   \n",
            "4998  EXIST2021  5618  twitter       es   \n",
            "4999  EXIST2021  4991  twitter       es   \n",
            "\n",
            "                                                   text       task1  \\\n",
            "0                        Yayaalvarezz @ make me slutbag      sexist   \n",
            "1     AHindinews @ This is how they play victim card...  non-sexist   \n",
            "2     Feminist like this are the reason Mgtow # is b...      sexist   \n",
            "3     HelenKarenWest @ This is a super news for the ...  non-sexist   \n",
            "4       JustaMinx @ All I want in Christmas is cat girl  non-sexist   \n",
            "...                                                 ...         ...   \n",
            "4995  Como mujer , cis el feminismo en si tampoco me...      sexist   \n",
            "4996  Hay una incipiente desconstrucción del androce...  non-sexist   \n",
            "4997  Odio que politicen . todo No importa bajo que ...  non-sexist   \n",
            "4998  Mochi__001 @ nastywaIIs @ Por eso me re jode l...      sexist   \n",
            "4999  Impunidad al , volante festejada por el . mame...      sexist   \n",
            "\n",
            "                             task2  \n",
            "0     misogyny-non-sexual-violence  \n",
            "1                       non-sexist  \n",
            "2           ideological-inequality  \n",
            "3                       non-sexist  \n",
            "4                       non-sexist  \n",
            "...                            ...  \n",
            "4995        ideological-inequality  \n",
            "4996                    non-sexist  \n",
            "4997                    non-sexist  \n",
            "4998               sexual-violence  \n",
            "4999        stereotyping-dominance  \n",
            "\n",
            "[5000 rows x 7 columns]\n"
          ]
        }
      ]
    },
    {
      "cell_type": "code",
      "source": [
        "# Guardar el DataFrame df_final en un archivo TSV\n",
        "df_final.to_csv(\"swapp_EXIST2021_training.tsv\", sep='\\t', index=False)\n"
      ],
      "metadata": {
        "id": "mk_KL5CNtttp"
      },
      "execution_count": 85,
      "outputs": []
    }
  ]
}